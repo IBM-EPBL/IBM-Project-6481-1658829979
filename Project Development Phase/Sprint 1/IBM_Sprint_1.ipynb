{
  "nbformat": 4,
  "nbformat_minor": 0,
  "metadata": {
    "colab": {
      "provenance": []
    },
    "kernelspec": {
      "name": "python3",
      "display_name": "Python 3"
    },
    "language_info": {
      "name": "python"
    }
  },
  "cells": [
    {
      "cell_type": "markdown",
      "source": [
        "### **MNIST set is a large collection of handwritten digits. It is a very popular dataset in the field of image processing. It is often used for benchmarking machine learning algorithms.**"
      ],
      "metadata": {
        "id": "5jRGb_sLopZB"
      }
    },
    {
      "cell_type": "markdown",
      "source": [
        "### **MNIST is short for Modified National Institute of Standards and Technology database.It contains a collection of 70,000, 28 x 28 images of handwritten digits from 0 to 9.The dataset is already divided into training and testing sets.**"
      ],
      "metadata": {
        "id": "YG64xa4wowao"
      }
    },
    {
      "cell_type": "markdown",
      "source": [
        "### **Kaggle JSON path**"
      ],
      "metadata": {
        "id": "i9CvweY2o5zK"
      }
    },
    {
      "cell_type": "code",
      "execution_count": 1,
      "metadata": {
        "id": "tvTTogxTfNKG"
      },
      "outputs": [],
      "source": [
        "import os\n",
        "os.environ['KAGGLE_CONFIG_DIR']='/content/'"
      ]
    },
    {
      "cell_type": "markdown",
      "source": [
        "### **API from kaggle**"
      ],
      "metadata": {
        "id": "ctE8te1Eo_rE"
      }
    },
    {
      "cell_type": "code",
      "source": [
        "!kaggle datasets download -d saijananim/ibm-mnist-dataset-new"
      ],
      "metadata": {
        "colab": {
          "base_uri": "https://localhost:8080/"
        },
        "id": "NSUX5t4xfofa",
        "outputId": "57a1224e-de4b-465a-87b8-3da598b333b3"
      },
      "execution_count": 2,
      "outputs": [
        {
          "output_type": "stream",
          "name": "stdout",
          "text": [
            "Warning: Your Kaggle API key is readable by other users on this system! To fix this, you can run 'chmod 600 /content/kaggle.json'\n",
            "Downloading ibm-mnist-dataset-new.zip to /content\n",
            " 72% 11.0M/15.2M [00:00<00:00, 53.3MB/s]\n",
            "100% 15.2M/15.2M [00:00<00:00, 66.8MB/s]\n"
          ]
        }
      ]
    },
    {
      "cell_type": "markdown",
      "source": [
        "### **Importing the libraries**"
      ],
      "metadata": {
        "id": "KjyZhO9OpJFm"
      }
    },
    {
      "cell_type": "code",
      "source": [
        "import pandas as pd\n",
        "import numpy as np\n",
        "from keras import utils\n",
        "import matplotlib.pyplot as plt\n",
        "import seaborn as sns\n",
        "from sklearn.model_selection import train_test_split\n",
        "from sklearn.preprocessing import LabelEncoder\n",
        "from keras.models import Model\n",
        "from keras.layers import LSTM, Activation, Dense, Dropout, Input, Embedding\n",
        "from keras.optimizers import RMSprop\n",
        "from keras.preprocessing.text import Tokenizer\n",
        "from keras.preprocessing import sequence\n",
        "from keras.utils import to_categorical\n",
        "%matplotlib inline\n",
        "from keras.datasets import mnist    \n",
        "from keras.models import Sequential  \n",
        "from keras.layers.core import Dense, Dropout, Activation \n",
        "from keras.utils import np_utils\n",
        "import random "
      ],
      "metadata": {
        "id": "rK3JCkgdfuaS"
      },
      "execution_count": 29,
      "outputs": []
    },
    {
      "cell_type": "markdown",
      "source": [
        "### **Loading the dataset from keras**"
      ],
      "metadata": {
        "id": "CCVlDcWapP3Q"
      }
    },
    {
      "cell_type": "code",
      "source": [
        "df=mnist.load_data()"
      ],
      "metadata": {
        "id": "AZjS6euwgRQ7"
      },
      "execution_count": 5,
      "outputs": []
    },
    {
      "cell_type": "code",
      "source": [
        "df"
      ],
      "metadata": {
        "colab": {
          "base_uri": "https://localhost:8080/"
        },
        "id": "PnIXRZhUglm7",
        "outputId": "159daecf-d10e-4c6b-e5bc-b11dbb79a2d7"
      },
      "execution_count": 6,
      "outputs": [
        {
          "output_type": "execute_result",
          "data": {
            "text/plain": [
              "((array([[[0, 0, 0, ..., 0, 0, 0],\n",
              "          [0, 0, 0, ..., 0, 0, 0],\n",
              "          [0, 0, 0, ..., 0, 0, 0],\n",
              "          ...,\n",
              "          [0, 0, 0, ..., 0, 0, 0],\n",
              "          [0, 0, 0, ..., 0, 0, 0],\n",
              "          [0, 0, 0, ..., 0, 0, 0]],\n",
              "  \n",
              "         [[0, 0, 0, ..., 0, 0, 0],\n",
              "          [0, 0, 0, ..., 0, 0, 0],\n",
              "          [0, 0, 0, ..., 0, 0, 0],\n",
              "          ...,\n",
              "          [0, 0, 0, ..., 0, 0, 0],\n",
              "          [0, 0, 0, ..., 0, 0, 0],\n",
              "          [0, 0, 0, ..., 0, 0, 0]],\n",
              "  \n",
              "         [[0, 0, 0, ..., 0, 0, 0],\n",
              "          [0, 0, 0, ..., 0, 0, 0],\n",
              "          [0, 0, 0, ..., 0, 0, 0],\n",
              "          ...,\n",
              "          [0, 0, 0, ..., 0, 0, 0],\n",
              "          [0, 0, 0, ..., 0, 0, 0],\n",
              "          [0, 0, 0, ..., 0, 0, 0]],\n",
              "  \n",
              "         ...,\n",
              "  \n",
              "         [[0, 0, 0, ..., 0, 0, 0],\n",
              "          [0, 0, 0, ..., 0, 0, 0],\n",
              "          [0, 0, 0, ..., 0, 0, 0],\n",
              "          ...,\n",
              "          [0, 0, 0, ..., 0, 0, 0],\n",
              "          [0, 0, 0, ..., 0, 0, 0],\n",
              "          [0, 0, 0, ..., 0, 0, 0]],\n",
              "  \n",
              "         [[0, 0, 0, ..., 0, 0, 0],\n",
              "          [0, 0, 0, ..., 0, 0, 0],\n",
              "          [0, 0, 0, ..., 0, 0, 0],\n",
              "          ...,\n",
              "          [0, 0, 0, ..., 0, 0, 0],\n",
              "          [0, 0, 0, ..., 0, 0, 0],\n",
              "          [0, 0, 0, ..., 0, 0, 0]],\n",
              "  \n",
              "         [[0, 0, 0, ..., 0, 0, 0],\n",
              "          [0, 0, 0, ..., 0, 0, 0],\n",
              "          [0, 0, 0, ..., 0, 0, 0],\n",
              "          ...,\n",
              "          [0, 0, 0, ..., 0, 0, 0],\n",
              "          [0, 0, 0, ..., 0, 0, 0],\n",
              "          [0, 0, 0, ..., 0, 0, 0]]], dtype=uint8),\n",
              "  array([5, 0, 4, ..., 5, 6, 8], dtype=uint8)),\n",
              " (array([[[0, 0, 0, ..., 0, 0, 0],\n",
              "          [0, 0, 0, ..., 0, 0, 0],\n",
              "          [0, 0, 0, ..., 0, 0, 0],\n",
              "          ...,\n",
              "          [0, 0, 0, ..., 0, 0, 0],\n",
              "          [0, 0, 0, ..., 0, 0, 0],\n",
              "          [0, 0, 0, ..., 0, 0, 0]],\n",
              "  \n",
              "         [[0, 0, 0, ..., 0, 0, 0],\n",
              "          [0, 0, 0, ..., 0, 0, 0],\n",
              "          [0, 0, 0, ..., 0, 0, 0],\n",
              "          ...,\n",
              "          [0, 0, 0, ..., 0, 0, 0],\n",
              "          [0, 0, 0, ..., 0, 0, 0],\n",
              "          [0, 0, 0, ..., 0, 0, 0]],\n",
              "  \n",
              "         [[0, 0, 0, ..., 0, 0, 0],\n",
              "          [0, 0, 0, ..., 0, 0, 0],\n",
              "          [0, 0, 0, ..., 0, 0, 0],\n",
              "          ...,\n",
              "          [0, 0, 0, ..., 0, 0, 0],\n",
              "          [0, 0, 0, ..., 0, 0, 0],\n",
              "          [0, 0, 0, ..., 0, 0, 0]],\n",
              "  \n",
              "         ...,\n",
              "  \n",
              "         [[0, 0, 0, ..., 0, 0, 0],\n",
              "          [0, 0, 0, ..., 0, 0, 0],\n",
              "          [0, 0, 0, ..., 0, 0, 0],\n",
              "          ...,\n",
              "          [0, 0, 0, ..., 0, 0, 0],\n",
              "          [0, 0, 0, ..., 0, 0, 0],\n",
              "          [0, 0, 0, ..., 0, 0, 0]],\n",
              "  \n",
              "         [[0, 0, 0, ..., 0, 0, 0],\n",
              "          [0, 0, 0, ..., 0, 0, 0],\n",
              "          [0, 0, 0, ..., 0, 0, 0],\n",
              "          ...,\n",
              "          [0, 0, 0, ..., 0, 0, 0],\n",
              "          [0, 0, 0, ..., 0, 0, 0],\n",
              "          [0, 0, 0, ..., 0, 0, 0]],\n",
              "  \n",
              "         [[0, 0, 0, ..., 0, 0, 0],\n",
              "          [0, 0, 0, ..., 0, 0, 0],\n",
              "          [0, 0, 0, ..., 0, 0, 0],\n",
              "          ...,\n",
              "          [0, 0, 0, ..., 0, 0, 0],\n",
              "          [0, 0, 0, ..., 0, 0, 0],\n",
              "          [0, 0, 0, ..., 0, 0, 0]]], dtype=uint8),\n",
              "  array([7, 2, 1, ..., 4, 5, 6], dtype=uint8)))"
            ]
          },
          "metadata": {},
          "execution_count": 6
        }
      ]
    },
    {
      "cell_type": "markdown",
      "source": [
        "### **Training and Testing Datasets**"
      ],
      "metadata": {
        "id": "bNIqpvoFp9Ke"
      }
    },
    {
      "cell_type": "code",
      "source": [
        "(X_train, y_train), (X_test, y_test) = mnist.load_data()\n"
      ],
      "metadata": {
        "id": "NajKJxFqiJWc"
      },
      "execution_count": 19,
      "outputs": []
    },
    {
      "cell_type": "markdown",
      "source": [
        "### **Determining the Shape of the dataset**"
      ],
      "metadata": {
        "id": "Fun2d6DeqM7g"
      }
    },
    {
      "cell_type": "code",
      "source": [
        "print(\"X_train shape\", X_train.shape)\n",
        "print(\"y_train shape\", y_train.shape)\n",
        "print(\"X_test shape\", X_test.shape)\n",
        "print(\"y_test shape\", y_test.shape)"
      ],
      "metadata": {
        "colab": {
          "base_uri": "https://localhost:8080/"
        },
        "id": "3bauEjQeiQsk",
        "outputId": "0bee5c73-0e34-48ef-e477-3bbdbc654540"
      },
      "execution_count": 20,
      "outputs": [
        {
          "output_type": "stream",
          "name": "stdout",
          "text": [
            "X_train shape (60000, 28, 28)\n",
            "y_train shape (60000,)\n",
            "X_test shape (10000, 28, 28)\n",
            "y_test shape (10000,)\n"
          ]
        }
      ]
    },
    {
      "cell_type": "markdown",
      "source": [
        "### **Showing the Sample Images**"
      ],
      "metadata": {
        "id": "Zi4ugaL8qr-J"
      }
    },
    {
      "cell_type": "code",
      "source": [
        "plt.rcParams['figure.figsize'] = (9,9)\n",
        "\n",
        "for i in range(9):\n",
        "    plt.subplot(3,3,i+1)\n",
        "    num = random.randint(0, len(X_train))\n",
        "    plt.imshow(X_train[num], cmap='gray', interpolation='none')\n",
        "    plt.title(\"Class {}\".format(y_train[num]))\n",
        "    \n",
        "plt.tight_layout()"
      ],
      "metadata": {
        "colab": {
          "base_uri": "https://localhost:8080/",
          "height": 657
        },
        "id": "_7ZrUMcNk2Wr",
        "outputId": "24549834-db41-468e-ba14-3b59df779092"
      },
      "execution_count": 35,
      "outputs": [
        {
          "output_type": "display_data",
          "data": {
            "text/plain": [
              "<Figure size 648x648 with 9 Axes>"
            ],
            "image/png": "[encoded data removed]"
          },
          "metadata": {
            "needs_background": "light"
          }
        }
      ]
    },
    {
      "cell_type": "markdown",
      "source": [
        "### **Printing the matrix**"
      ],
      "metadata": {
        "id": "yWaLM3F8q3ya"
      }
    },
    {
      "cell_type": "code",
      "source": [
        "def matprint(mat, fmt=\"g\"):\n",
        "    col_maxes = [max([len((\"{:\"+fmt+\"}\").format(x)) for x in col]) for col in mat.T]\n",
        "    for x in mat:\n",
        "        for i, y in enumerate(x):\n",
        "            print((\"{:\"+str(col_maxes[i])+fmt+\"}\").format(y), end=\"  \")\n",
        "        print(\"\")\n",
        "\n",
        "   \n",
        "matprint(X_train[num])"
      ],
      "metadata": {
        "colab": {
          "base_uri": "https://localhost:8080/"
        },
        "id": "vurdh-canVAH",
        "outputId": "c7f220dd-2d61-40d9-9db9-979c8fab20be"
      },
      "execution_count": 31,
      "outputs": [
        {
          "output_type": "stream",
          "name": "stdout",
          "text": [
            "0  0  0  0  0  0  0  0  0   0    0    0    0    0    0    0    0    0    0    0   0  0  0  0  0  0  0  0  \n",
            "0  0  0  0  0  0  0  0  0   0    0    0    0    0    0    0    0    0    0    0   0  0  0  0  0  0  0  0  \n",
            "0  0  0  0  0  0  0  0  0   0    0    0    0    0    0    0    0    0    0    0   0  0  0  0  0  0  0  0  \n",
            "0  0  0  0  0  0  0  0  0   0    0    0    0    0    0    0    0    0    0    0   0  0  0  0  0  0  0  0  \n",
            "0  0  0  0  0  0  0  0  0   0    0    0    0    0    0    0    0    0    0    0   0  0  0  0  0  0  0  0  \n",
            "0  0  0  0  0  0  0  0  0   0    0    0    0   11   51  113  193  193   51    0   0  0  0  0  0  0  0  0  \n",
            "0  0  0  0  0  0  0  0  0   0    0    0   41  213  252  253  252  253  192    0   0  0  0  0  0  0  0  0  \n",
            "0  0  0  0  0  0  0  0  0   0    0  113  253  224  122   41   82  254  253   82   0  0  0  0  0  0  0  0  \n",
            "0  0  0  0  0  0  0  0  0   0   41  233  212   20    0    0    0  172  252  203   0  0  0  0  0  0  0  0  \n",
            "0  0  0  0  0  0  0  0  0   0  102  244   81    0    0    0    0    0  123  224  20  0  0  0  0  0  0  0  \n",
            "0  0  0  0  0  0  0  0  0   0  102  203    0    0    0    0    0   21  223  203   0  0  0  0  0  0  0  0  \n",
            "0  0  0  0  0  0  0  0  0   0  163  203    0    0    0    0    0  113  253   41   0  0  0  0  0  0  0  0  \n",
            "0  0  0  0  0  0  0  0  0   0  203  203    0    0    0    0   41  233  130    0   0  0  0  0  0  0  0  0  \n",
            "0  0  0  0  0  0  0  0  0   0  102  214   10    0    0   11  173  183    0    0   0  0  0  0  0  0  0  0  \n",
            "0  0  0  0  0  0  0  0  0   0  102  253   91    0    0  173  252   61    0    0   0  0  0  0  0  0  0  0  \n",
            "0  0  0  0  0  0  0  0  0   0  102  254  151   11  213  254  151    0    0    0   0  0  0  0  0  0  0  0  \n",
            "0  0  0  0  0  0  0  0  0   0   20  253  232  173  252  192   50    0    0    0   0  0  0  0  0  0  0  0  \n",
            "0  0  0  0  0  0  0  0  0   0   21  173  253  254  131    0    0    0    0    0   0  0  0  0  0  0  0  0  \n",
            "0  0  0  0  0  0  0  0  0   0  183  253  252  233   30    0    0    0    0    0   0  0  0  0  0  0  0  0  \n",
            "0  0  0  0  0  0  0  0  0  52  253  254  172  254  151    0    0    0    0    0   0  0  0  0  0  0  0  0  \n",
            "0  0  0  0  0  0  0  0  0  51  252  233   30  213  232    0    0    0    0    0   0  0  0  0  0  0  0  0  \n",
            "0  0  0  0  0  0  0  0  0  52  253  123    0  132  253  123    0    0    0    0   0  0  0  0  0  0  0  0  \n",
            "0  0  0  0  0  0  0  0  0  31  232  243   81   31  232  203    0    0    0    0   0  0  0  0  0  0  0  0  \n",
            "0  0  0  0  0  0  0  0  0   0   41  214  253  255  253  183    0    0    0    0   0  0  0  0  0  0  0  0  \n",
            "0  0  0  0  0  0  0  0  0   0    0   10  131  213  171   20    0    0    0    0   0  0  0  0  0  0  0  0  \n",
            "0  0  0  0  0  0  0  0  0   0    0    0    0    0    0    0    0    0    0    0   0  0  0  0  0  0  0  0  \n",
            "0  0  0  0  0  0  0  0  0   0    0    0    0    0    0    0    0    0    0    0   0  0  0  0  0  0  0  0  \n",
            "0  0  0  0  0  0  0  0  0   0    0    0    0    0    0    0    0    0    0    0   0  0  0  0  0  0  0  0  \n"
          ]
        }
      ]
    },
    {
      "cell_type": "code",
      "source": [
        "print(\"The label value is \",y_test)\n",
        "plt.imshow(X_test[18])"
      ],
      "metadata": {
        "colab": {
          "base_uri": "https://localhost:8080/",
          "height": 572
        },
        "id": "U7EXjQyroMB3",
        "outputId": "f6dd5d14-a41c-4231-8711-d8bca4fdae73"
      },
      "execution_count": 32,
      "outputs": [
        {
          "output_type": "stream",
          "name": "stdout",
          "text": [
            "The label value is  [7 2 1 ... 4 5 6]\n"
          ]
        },
        {
          "output_type": "execute_result",
          "data": {
            "text/plain": [
              "<matplotlib.image.AxesImage at 0x7f1c6c0bab90>"
            ]
          },
          "metadata": {},
          "execution_count": 32
        },
        {
          "output_type": "display_data",
          "data": {
            "text/plain": [
              "<Figure size 648x648 with 1 Axes>"
            ],
            "image/png": "[encoded data removed]"
          },
          "metadata": {
            "needs_background": "light"
          }
        }
      ]
    },
    {
      "cell_type": "code",
      "source": [
        "print(\"The label value is \",y_test)\n",
        "plt.imshow(X_test[50])"
      ],
      "metadata": {
        "colab": {
          "base_uri": "https://localhost:8080/",
          "height": 572
        },
        "id": "XRAH7wrboZ_A",
        "outputId": "706dc0ec-a15a-434e-aad1-8ba16e77267b"
      },
      "execution_count": 34,
      "outputs": [
        {
          "output_type": "stream",
          "name": "stdout",
          "text": [
            "The label value is  [7 2 1 ... 4 5 6]\n"
          ]
        },
        {
          "output_type": "execute_result",
          "data": {
            "text/plain": [
              "<matplotlib.image.AxesImage at 0x7f1c694ffb90>"
            ]
          },
          "metadata": {},
          "execution_count": 34
        },
        {
          "output_type": "display_data",
          "data": {
            "text/plain": [
              "<Figure size 648x648 with 1 Axes>"
            ],
            "image/png": "[encoded data removed]"
          },
          "metadata": {
            "needs_background": "light"
          }
        }
      ]
    },
    {
      "cell_type": "code",
      "source": [],
      "metadata": {
        "id": "3Zbnlz0qogXN"
      },
      "execution_count": null,
      "outputs": []
    }
  ]
}